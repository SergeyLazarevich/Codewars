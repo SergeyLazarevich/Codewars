{
  "nbformat": 4,
  "nbformat_minor": 0,
  "metadata": {
    "colab": {
      "name": "Untitled1.ipynb",
      "provenance": [],
      "authorship_tag": "ABX9TyPnSoa8qErFuM0pH9OQrj38",
      "include_colab_link": true
    },
    "kernelspec": {
      "name": "python3",
      "display_name": "Python 3"
    },
    "language_info": {
      "name": "python"
    }
  },
  "cells": [
    {
      "cell_type": "markdown",
      "metadata": {
        "id": "view-in-github",
        "colab_type": "text"
      },
      "source": [
        "<a href=\"https://colab.research.google.com/github/SergeyLazarevich/Codewars/blob/colab/%D0%BD%D0%B0%D1%85%D0%BE%D0%B6%D0%B4%D0%B5%D0%BD%D0%B8%D1%8F_%D0%B2%D1%81%D0%B5%D1%85_%D0%B4%D0%B5%D0%BB%D0%B8%D1%82%D0%B5%D0%BB%D0%B5%D0%B9.ipynb\" target=\"_parent\"><img src=\"https://colab.research.google.com/assets/colab-badge.svg\" alt=\"Open In Colab\"/></a>"
      ]
    },
    {
      "cell_type": "markdown",
      "metadata": {
        "id": "F7xGRLEgbtKJ"
      },
      "source": [
        "<h4>Реализовать алгоритм для нахождения всех делителей натурального числа N. Число N вводится с клавиатуры. Для начала можно реализовать простым перебором всех N возможных чисел (делителей). Затем, подумайте, как можно оптимизировать по скорости этот алгоритм.</h4>\n",
        "<p>Иследование скорости обработки map(), filter(), zip()</p>\n",
        "\n",
        "\n"
      ]
    },
    {
      "cell_type": "code",
      "metadata": {
        "id": "vLzKtGWL-7G7",
        "colab": {
          "base_uri": "https://localhost:8080/"
        },
        "outputId": "37f26251-7942-4eed-b260-d965ab739f8a"
      },
      "source": [
        "from cProfile import run\n",
        "\n",
        "def fun_0(num):\n",
        "    delitel_0 = (i for i in range(1,(num // 2) + 1))\n",
        "    delitel_1 = (num % j for j in range(1,(num // 2) + 1))\n",
        "    ded = zip(delitel_0,delitel_1)\n",
        "    return list(map(lambda j: j[0],filter(lambda i: not i[1],ded)))\n",
        "\n",
        "def fun_1(num):\n",
        "    num_list = []\n",
        "    for i in range(1,(num // 2) + 1):\n",
        "        if num % i == 0:\n",
        "            num_list.append(i)\n",
        "    return num_list\n",
        "\n",
        "def fun_2(num):\n",
        "    return [i for i in range(1,(num // 2) + 1)  if num % i == 0]\n",
        "\n",
        "def fun_2_2(num):\n",
        "    l = list((i for i in range(1,(num // 2) + 1)  if num % i == 0))\n",
        "    return l\n",
        "\n",
        "def fun_3(num):\n",
        "    l = (list(filter(lambda i: num % i == 0, range(1,(num // 2) + 1))))\n",
        "    return l  \n",
        "\n",
        "def fun_3_3(num):\n",
        "    return [i for i in filter(lambda i: num % i == 0, range(1,(num // 2) + 1))]\n",
        "\n",
        "number = 100000000\n",
        "# run(\"fun_0(number)\")\n",
        "run(\"fun_1(number)\")\n",
        "run(\"fun_2(number)\")\n",
        "run(\"fun_2_2(number)\")\n",
        "run(\"fun_3(number)\")\n",
        "run(\"fun_3_3(number)\")"
      ],
      "execution_count": null,
      "outputs": [
        {
          "output_type": "stream",
          "text": [
            "         84 function calls in 4.305 seconds\n",
            "\n",
            "   Ordered by: standard name\n",
            "\n",
            "   ncalls  tottime  percall  cumtime  percall filename:lineno(function)\n",
            "        1    4.305    4.305    4.305    4.305 <ipython-input-8-899431abfb2a>:9(fun_1)\n",
            "        1    0.000    0.000    4.305    4.305 <string>:1(<module>)\n",
            "        1    0.000    0.000    4.305    4.305 {built-in method builtins.exec}\n",
            "       80    0.000    0.000    0.000    0.000 {method 'append' of 'list' objects}\n",
            "        1    0.000    0.000    0.000    0.000 {method 'disable' of '_lsprof.Profiler' objects}\n",
            "\n",
            "\n",
            "         5 function calls in 4.286 seconds\n",
            "\n",
            "   Ordered by: standard name\n",
            "\n",
            "   ncalls  tottime  percall  cumtime  percall filename:lineno(function)\n",
            "        1    0.000    0.000    4.286    4.286 <ipython-input-8-899431abfb2a>:16(fun_2)\n",
            "        1    4.286    4.286    4.286    4.286 <ipython-input-8-899431abfb2a>:17(<listcomp>)\n",
            "        1    0.000    0.000    4.286    4.286 <string>:1(<module>)\n",
            "        1    0.000    0.000    4.286    4.286 {built-in method builtins.exec}\n",
            "        1    0.000    0.000    0.000    0.000 {method 'disable' of '_lsprof.Profiler' objects}\n",
            "\n",
            "\n",
            "         85 function calls in 4.006 seconds\n",
            "\n",
            "   Ordered by: standard name\n",
            "\n",
            "   ncalls  tottime  percall  cumtime  percall filename:lineno(function)\n",
            "        1    0.000    0.000    4.006    4.006 <ipython-input-8-899431abfb2a>:19(fun_2_2)\n",
            "       81    4.006    0.049    4.006    0.049 <ipython-input-8-899431abfb2a>:20(<genexpr>)\n",
            "        1    0.000    0.000    4.006    4.006 <string>:1(<module>)\n",
            "        1    0.000    0.000    4.006    4.006 {built-in method builtins.exec}\n",
            "        1    0.000    0.000    0.000    0.000 {method 'disable' of '_lsprof.Profiler' objects}\n",
            "\n",
            "\n",
            "         50000004 function calls in 12.743 seconds\n",
            "\n",
            "   Ordered by: standard name\n",
            "\n",
            "   ncalls  tottime  percall  cumtime  percall filename:lineno(function)\n",
            "        1    6.903    6.903   12.743   12.743 <ipython-input-8-899431abfb2a>:23(fun_3)\n",
            " 50000000    5.840    0.000    5.840    0.000 <ipython-input-8-899431abfb2a>:24(<lambda>)\n",
            "        1    0.000    0.000   12.743   12.743 <string>:1(<module>)\n",
            "        1    0.000    0.000   12.743   12.743 {built-in method builtins.exec}\n",
            "        1    0.000    0.000    0.000    0.000 {method 'disable' of '_lsprof.Profiler' objects}\n",
            "\n",
            "\n",
            "         50000005 function calls in 12.774 seconds\n",
            "\n",
            "   Ordered by: standard name\n",
            "\n",
            "   ncalls  tottime  percall  cumtime  percall filename:lineno(function)\n",
            "        1    0.000    0.000   12.774   12.774 <ipython-input-8-899431abfb2a>:27(fun_3_3)\n",
            " 50000000    5.814    0.000    5.814    0.000 <ipython-input-8-899431abfb2a>:28(<lambda>)\n",
            "        1    6.960    6.960   12.774   12.774 <ipython-input-8-899431abfb2a>:28(<listcomp>)\n",
            "        1    0.000    0.000   12.774   12.774 <string>:1(<module>)\n",
            "        1    0.000    0.000   12.774   12.774 {built-in method builtins.exec}\n",
            "        1    0.000    0.000    0.000    0.000 {method 'disable' of '_lsprof.Profiler' objects}\n",
            "\n",
            "\n"
          ],
          "name": "stdout"
        }
      ]
    }
  ]
}