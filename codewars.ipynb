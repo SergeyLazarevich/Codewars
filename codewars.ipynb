{
 "cells": [
  {
   "cell_type": "code",
   "execution_count": 92,
   "metadata": {},
   "outputs": [],
   "source": [
    "from collections import Counter"
   ]
  },
  {
   "cell_type": "code",
   "execution_count": 105,
   "metadata": {},
   "outputs": [
    {
     "ename": "SyntaxError",
     "evalue": "invalid syntax (<ipython-input-105-73bb89c0a53f>, line 1)",
     "output_type": "error",
     "traceback": [
      "\u001b[0;36m  File \u001b[0;32m\"<ipython-input-105-73bb89c0a53f>\"\u001b[0;36m, line \u001b[0;32m1\u001b[0m\n\u001b[0;31m    abc = [chr(x):0 for x in range(ord('a'), ord('z') + 1)]\u001b[0m\n\u001b[0m                 ^\u001b[0m\n\u001b[0;31mSyntaxError\u001b[0m\u001b[0;31m:\u001b[0m invalid syntax\n"
     ]
    }
   ],
   "source": [
    "abc = [chr(x):0 for x in range(ord('a'), ord('z') + 1)]\n",
    "#abc = Counter(abc)\n",
    "abc"
   ]
  },
  {
   "cell_type": "code",
   "execution_count": 93,
   "metadata": {},
   "outputs": [],
   "source": [
    "string = 'ddfgkjncsasaaavdssakklkcasacpkcssslmcamv'.lower()\n",
    "string_сounter = Counter(string)"
   ]
  },
  {
   "cell_type": "code",
   "execution_count": 94,
   "metadata": {},
   "outputs": [
    {
     "data": {
      "text/plain": [
       "Counter({'d': 3,\n",
       "         'f': 1,\n",
       "         'g': 1,\n",
       "         'k': 5,\n",
       "         'j': 1,\n",
       "         'n': 1,\n",
       "         'c': 5,\n",
       "         's': 8,\n",
       "         'a': 8,\n",
       "         'v': 2,\n",
       "         'l': 2,\n",
       "         'p': 1,\n",
       "         'm': 2})"
      ]
     },
     "execution_count": 94,
     "metadata": {},
     "output_type": "execute_result"
    }
   ],
   "source": [
    "string_сounter"
   ]
  },
  {
   "cell_type": "code",
   "execution_count": 95,
   "metadata": {},
   "outputs": [],
   "source": [
    "string_сounter = sorted(list(i) for i in string_сounter.items())"
   ]
  },
  {
   "cell_type": "code",
   "execution_count": 96,
   "metadata": {},
   "outputs": [
    {
     "data": {
      "text/plain": [
       "[['a', 8],\n",
       " ['c', 5],\n",
       " ['d', 3],\n",
       " ['f', 1],\n",
       " ['g', 1],\n",
       " ['j', 1],\n",
       " ['k', 5],\n",
       " ['l', 2],\n",
       " ['m', 2],\n",
       " ['n', 1],\n",
       " ['p', 1],\n",
       " ['s', 8],\n",
       " ['v', 2]]"
      ]
     },
     "execution_count": 96,
     "metadata": {},
     "output_type": "execute_result"
    }
   ],
   "source": [
    "string_сounter"
   ]
  },
  {
   "cell_type": "code",
   "execution_count": 98,
   "metadata": {},
   "outputs": [],
   "source": [
    "for i in range(len(string_сounter)-1):\n",
    "    if string_сounter[i][1] > 1:\n",
    "        string_сounter[i+1][1] = string_сounter[i+1][1] + string_сounter[i][1] // 2\n",
    "        string_сounter[i][1] %= 2\n",
    "        "
   ]
  },
  {
   "cell_type": "code",
   "execution_count": 99,
   "metadata": {},
   "outputs": [
    {
     "data": {
      "text/plain": [
       "[['a', 0],\n",
       " ['c', 1],\n",
       " ['d', 1],\n",
       " ['f', 0],\n",
       " ['g', 1],\n",
       " ['j', 0],\n",
       " ['k', 0],\n",
       " ['l', 1],\n",
       " ['m', 0],\n",
       " ['n', 1],\n",
       " ['p', 0],\n",
       " ['s', 1],\n",
       " ['v', 6]]"
      ]
     },
     "execution_count": 99,
     "metadata": {},
     "output_type": "execute_result"
    }
   ],
   "source": [
    "string_сounter"
   ]
  },
  {
   "cell_type": "code",
   "execution_count": null,
   "metadata": {},
   "outputs": [],
   "source": [
    "if string_сounter.most_common(1) > 1:\n",
    "    pass\n",
    "def last_survivors(string):"
   ]
  },
  {
   "cell_type": "code",
   "execution_count": 121,
   "metadata": {},
   "outputs": [],
   "source": [
    "import numpy as np\r\n",
    "def greatest_common_factor(seq):\r\n",
    "    seq = np.array(seq)\r\n",
    "    min = np.amax(seq)\r\n",
    "    ind_min = np.where(seq == np.amax(seq))[0]\r\n",
    "    seq = np.delete(seq, ind_min)\r\n",
    "    seq = np.gcd(seq,min)\r\n",
    "    return np.amin(seq)"
   ]
  },
  {
   "cell_type": "code",
   "execution_count": 122,
   "metadata": {},
   "outputs": [
    {
     "name": "stdout",
     "output_type": "stream",
     "text": [
      "3\n"
     ]
    }
   ],
   "source": [
    "array = [48, 99, 18]\r\n",
    "print(greatest_common_factor(array))"
   ]
  },
  {
   "cell_type": "code",
   "execution_count": 120,
   "metadata": {},
   "outputs": [
    {
     "data": {
      "text/plain": [
       "array([ 3, 99,  9])"
      ]
     },
     "execution_count": 120,
     "metadata": {},
     "output_type": "execute_result"
    }
   ],
   "source": [
    "seq = np.array([48, 99, 18])\r\n",
    "min = 99\r\n",
    "np.gcd(seq,min)"
   ]
  }
 ],
 "metadata": {
  "kernelspec": {
   "display_name": "Python 3.9.2 64-bit",
   "name": "python392jvsc74a57bd031f2aee4e71d21fbe5cf8b01ff0e069b9275f58929596ceb00d14d90e3e16cd6"
  },
  "language_info": {
   "codemirror_mode": {
    "name": "ipython",
    "version": 3
   },
   "file_extension": ".py",
   "mimetype": "text/x-python",
   "name": "python",
   "nbconvert_exporter": "python",
   "pygments_lexer": "ipython3",
   "version": "3.9.2"
  },
  "metadata": {
   "interpreter": {
    "hash": "31f2aee4e71d21fbe5cf8b01ff0e069b9275f58929596ceb00d14d90e3e16cd6"
   }
  },
  "orig_nbformat": 2
 },
 "nbformat": 4,
 "nbformat_minor": 2
}